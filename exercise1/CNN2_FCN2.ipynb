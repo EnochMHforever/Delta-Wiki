{
 "cells": [
  {
   "cell_type": "markdown",
   "metadata": {},
   "source": [
    "# Tensorflow下mnist数据集的手写识别"
   ]
  },
  {
   "cell_type": "raw",
   "metadata": {},
   "source": [
    "实验概述：构建、训练、测试神经网络，具体如下：\n",
    "    1）输入数据转换成多维数组：shape =  [batch, in_height, in_width, in_channels]\n",
    "    2）第一卷积层。卷积：28*28输入，28*28输出，32个filter；池化：28*28输入，14*14输出；\n",
    "    3）第二卷积层。卷积：14*14输入，14*14输出，64个filter；池化：14*14输入，7*7输出；\n",
    "    3）--> 4）为了把卷积后的数据送给全连接层，需要用reshape做一个展开操作。\n",
    "    4）第一全连接层。输入：7*7*64；输出：1024；非线性单元采用relu；训练时采用dropout(keep_prob = 0.7)；测试时，禁用dropout(keep_prob = 1.0)\n",
    "    5) mini-batch：batch_size=100\n",
    "    6) 多轮训练：n_epochs = 21\n",
    "实验目标：\n",
    "    1）通过该程序理解tensorflow的基本工作原理；\n",
    "    2）熟悉如何做数据准备、掌握常用API函数；\n",
    "    3）建立自己的变量命名习惯，代码规范化、易于扩展和维护。\n",
    "掌握情况评测：\n",
    "    1）先默写出大纲，再填充代码；\n",
    "    2）在jupyter里逐个单元格运行；\n",
    "    3）充分利用函数原型提示、代码补全提高效率，减少错误。\n",
    "    总之，能够从无到有，自己把程序完整写出来！\n",
    "    \n",
    "last revised：2017.11.30\n",
    "by：mutong"
   ]
  },
  {
   "cell_type": "markdown",
   "metadata": {},
   "source": [
    "# 1、导入包"
   ]
  },
  {
   "cell_type": "code",
   "execution_count": 7,
   "metadata": {
    "collapsed": true
   },
   "outputs": [],
   "source": [
    "import tensorflow as tf\n",
    "import numpy as np"
   ]
  },
  {
   "cell_type": "markdown",
   "metadata": {
    "collapsed": true
   },
   "source": [
    "# 2、读入数据"
   ]
  },
  {
   "cell_type": "code",
   "execution_count": 8,
   "metadata": {
    "scrolled": false
   },
   "outputs": [
    {
     "name": "stdout",
     "output_type": "stream",
     "text": [
      "Extracting d:\\Mnist_data\\MNIST_data/train-images-idx3-ubyte.gz\n",
      "Extracting d:\\Mnist_data\\MNIST_data/train-labels-idx1-ubyte.gz\n",
      "Extracting d:\\Mnist_data\\MNIST_data/t10k-images-idx3-ubyte.gz\n",
      "Extracting d:\\Mnist_data\\MNIST_data/t10k-labels-idx1-ubyte.gz\n"
     ]
    }
   ],
   "source": [
    "from tensorflow.examples.tutorials.mnist import input_data\n",
    "mnist = input_data.read_data_sets(\"d:\\Mnist_data\\MNIST_data\", one_hot = True)"
   ]
  },
  {
   "cell_type": "markdown",
   "metadata": {},
   "source": [
    "# 3、构建网络模型"
   ]
  },
  {
   "cell_type": "markdown",
   "metadata": {},
   "source": [
    "#### 3.1常量定义"
   ]
  },
  {
   "cell_type": "code",
   "execution_count": 28,
   "metadata": {
    "collapsed": true
   },
   "outputs": [],
   "source": [
    "# ！！！避免magic number，提高程序可维护性\n",
    "\n",
    "#图片高度\n",
    "x_height = 28\n",
    "#图片宽度\n",
    "x_width = 28\n",
    "#输入图片大小为28*28\n",
    "n_inputs = 28 * 28\n",
    "#输出类别0~9共10类\n",
    "n_outputs = 10\n",
    "#黑白图片，只有一个通道\n",
    "in_channels = 1\n",
    "#第一卷积层设置32个过滤器\n",
    "n_filter_layer1 = 32\n",
    "#第二个卷积层设置64个过滤器\n",
    "n_filter_layer2 = 64\n",
    "#第一全连接层的输入个数\n",
    "n_inputs_full1 = 7*7*64\n",
    "#第二全连接层的输入个数\n",
    "n_inputs_full2 = 1024\n",
    "#过滤器高度\n",
    "filter_height = 5\n",
    "#过滤器宽度\n",
    "filter_width = 5"
   ]
  },
  {
   "cell_type": "markdown",
   "metadata": {},
   "source": [
    "#### 3.2函数定义"
   ]
  },
  {
   "cell_type": "code",
   "execution_count": 15,
   "metadata": {
    "collapsed": true
   },
   "outputs": [],
   "source": [
    "#初始化权值\n",
    "def weight_variable(shape):\n",
    "    init = tf.truncated_normal(shape, stddev = 0.1) \n",
    "    return tf.Variable(init)\n",
    "\n",
    "#初始化偏置值\n",
    "def bias_variable(shape):\n",
    "    init = tf.constant(0.1, shape = shape)\n",
    "    return tf.Variable(init)\n",
    "\n",
    "#卷积计算\n",
    "def conv2d(x, W):\n",
    "    # x: input tensor of shape [batch, in_height, in_width, in_channels]\n",
    "    # Filter / Kernel tensor of shape [filter_height, filter_width, in_channels, out_channels]\n",
    "    # strides[0]=strides[3]=1;strides[1]代表x方向的步长；strides[2]带表y方向的步长\n",
    "    # padding：A 'string' from: 'SAME', 'VALID'\n",
    "    return tf.nn.conv2d(x, W, strides = [1,1,1,1], padding = 'SAME')\n",
    "    \n",
    "#池化计算\n",
    "def max_pool_2x2(x):\n",
    "    #ksize [1, x, y, 1]\n",
    "    return tf.nn.max_pool(x, ksize = [1,2,2,1], strides = [1,2,2,1], padding = 'SAME')"
   ]
  },
  {
   "cell_type": "markdown",
   "metadata": {},
   "source": [
    "#### 3.3模型定义"
   ]
  },
  {
   "cell_type": "code",
   "execution_count": 16,
   "metadata": {},
   "outputs": [],
   "source": [
    "#定义placeholder\n",
    "x = tf.placeholder(tf.float32, [None, n_inputs]) # input\n",
    "y = tf.placeholder(tf.float32, [None, n_outputs]) # lables\n",
    "keep_prob = tf.placeholder(tf.float32)   #  probability for dropout\n",
    "\n",
    "#修改输入格式\n",
    "x_image = tf.reshape(tensor = x, shape = [-1, x_height, x_width, in_channels])\n",
    "\n",
    "#第一卷积层权值和偏置值\n",
    "W_conv1 = weight_variable(shape = [filter_height, filter_width, in_channels, n_filter_layer1])\n",
    "b_conv1 = bias_variable(shape = [n_filter_layer1])\n",
    "#第一层卷积\n",
    "sigma_conv1 = conv2d(x_image, W_conv1) + b_conv1\n",
    "#用relu进行非线性变换\n",
    "relu_conv1 = tf.nn.relu(sigma_conv1)\n",
    "#第一层池化\n",
    "pool_conv1 = max_pool_2x2(relu_conv1)\n",
    "\n",
    "#第二卷积层权值和偏置值\n",
    "W_conv2 = weight_variable(shape = [filter_height, filter_width, n_filter_layer1, n_filter_layer2])\n",
    "b_conv2 = bias_variable(shape = [n_filter_layer2])\n",
    "#对第二层进行卷积\n",
    "sigma_conv2 = conv2d(pool_conv1, W_conv2) + b_conv2\n",
    "#用relu进行非线性变换\n",
    "relu_conv2 = tf.nn.relu(sigma_conv2)\n",
    "#对第二层进行池化\n",
    "pool_conv2 = max_pool_2x2(relu_conv2)\n",
    "\n",
    "#把池化层输出扁平化为1维（把数据从卷积层格式转换到全连接层输入格式）\n",
    "pool_flat_conv2 = tf.reshape(tensor = pool_conv2, shape = [-1, n_inputs_full1])\n",
    "\n",
    "#第一全连接层权值和偏置值\n",
    "W_full1 = weight_variable(shape = [n_inputs_full1, n_inputs_full2])\n",
    "b_full1 = bias_variable([n_inputs_full2])\n",
    "#加法单元输出\n",
    "sigma_full1 = tf.matmul(pool_flat_conv2, W_full1) + b_full1\n",
    "#非线性单元输出\n",
    "relu_full1 = tf.nn.relu(sigma_full1)\n",
    "#dropout\n",
    "drop_full1 = tf.nn.dropout(relu_full1, keep_prob)\n",
    "\n",
    "#第二全连接层权值和偏置值\n",
    "W_full2 = weight_variable(shape = [n_inputs_full2, n_outputs])\n",
    "b_full2 = bias_variable([n_outputs])\n",
    "#加法单元输出\n",
    "sigma_full2 = tf.matmul(drop_full1, W_full2) + b_full2\n",
    "#非线性单元输出(神经元网络输出)\n",
    "prediction = tf.nn.softmax(sigma_full2)"
   ]
  },
  {
   "cell_type": "markdown",
   "metadata": {
    "collapsed": true
   },
   "source": [
    "#### 3.4损失函数"
   ]
  },
  {
   "cell_type": "code",
   "execution_count": 17,
   "metadata": {
    "collapsed": true
   },
   "outputs": [],
   "source": [
    "#交叉熵损失函数\n",
    "cross_entropy = tf.reduce_mean(tf.nn.softmax_cross_entropy_with_logits(labels = y, logits = prediction))"
   ]
  },
  {
   "cell_type": "markdown",
   "metadata": {},
   "source": [
    "#### 3.5最优化算法"
   ]
  },
  {
   "cell_type": "code",
   "execution_count": 29,
   "metadata": {
    "collapsed": true
   },
   "outputs": [],
   "source": [
    "#Adam优化算法\n",
    "train = tf.train.AdamOptimizer(1e-4).minimize(cross_entropy)"
   ]
  },
  {
   "cell_type": "markdown",
   "metadata": {},
   "source": [
    "#### 3.6模型评价指标"
   ]
  },
  {
   "cell_type": "code",
   "execution_count": 20,
   "metadata": {},
   "outputs": [],
   "source": [
    "#正确结果\n",
    "correct_prediction = tf.equal(tf.argmax(prediction, 1), tf.argmax(y, 1))\n",
    "#求准确率\n",
    "accuracy = tf.reduce_mean(tf.cast(x = correct_prediction, dtype = tf.float32))"
   ]
  },
  {
   "cell_type": "markdown",
   "metadata": {},
   "source": [
    "# 4、建立会话"
   ]
  },
  {
   "cell_type": "markdown",
   "metadata": {},
   "source": [
    "#### 4.1常量定义"
   ]
  },
  {
   "cell_type": "code",
   "execution_count": 22,
   "metadata": {
    "collapsed": true
   },
   "outputs": [],
   "source": [
    "n_epochs = 21\n",
    "batch_size = 100\n",
    "n_batches = int(np.ceil(mnist.train.num_examples/batch_size))"
   ]
  },
  {
   "cell_type": "markdown",
   "metadata": {},
   "source": [
    "#### 4.2建立会话"
   ]
  },
  {
   "cell_type": "code",
   "execution_count": 24,
   "metadata": {
    "scrolled": false
   },
   "outputs": [
    {
     "name": "stdout",
     "output_type": "stream",
     "text": [
      "Epoch0; Testing Accuracy:0.8604\n",
      "Epoch1; Testing Accuracy:0.8771\n",
      "Epoch2; Testing Accuracy:0.8825\n",
      "Epoch3; Testing Accuracy:0.8846\n",
      "Epoch4; Testing Accuracy:0.8864\n",
      "Epoch5; Testing Accuracy:0.8883\n",
      "Epoch6; Testing Accuracy:0.8876\n",
      "Epoch7; Testing Accuracy:0.8882\n",
      "Epoch8; Testing Accuracy:0.986\n",
      "Epoch9; Testing Accuracy:0.9871\n",
      "Epoch10; Testing Accuracy:0.9888\n",
      "Epoch11; Testing Accuracy:0.9889\n",
      "Epoch12; Testing Accuracy:0.9902\n",
      "Epoch13; Testing Accuracy:0.989\n",
      "Epoch14; Testing Accuracy:0.989\n",
      "Epoch15; Testing Accuracy:0.9906\n",
      "Epoch16; Testing Accuracy:0.9907\n",
      "Epoch17; Testing Accuracy:0.9915\n",
      "Epoch18; Testing Accuracy:0.9915\n",
      "Epoch19; Testing Accuracy:0.9907\n",
      "Epoch20; Testing Accuracy:0.9921\n"
     ]
    }
   ],
   "source": [
    "with tf.Session() as sess:\n",
    "    #初始化所有变量\n",
    "    sess.run(tf.global_variables_initializer())\n",
    "    #迭代n_epochs次\n",
    "    for epoch in range(n_epochs):\n",
    "        #mini_batch=100\n",
    "        for batch in range(n_batches)：\n",
    "            #取一个batch的数据\n",
    "            x_batch, y_batch = mnist.train.next_batch(batch_size = batch_size)\n",
    "            #在训练集上训练模型\n",
    "            sess.run(train, feed_dict = {x:x_batch, y:y_batch, keep_prob:.7})\n",
    "        #在测试集上评价模型\n",
    "        acc = sess.run(accuracy, feed_dict = {x:mnist.test.images, y:mnist.test.labels, keep_prob:1.0})\n",
    "        print(\"Epoch\" + str(epoch) + \", Testing Accuracy:\" + str(acc)) "
   ]
  },
  {
   "cell_type": "code",
   "execution_count": null,
   "metadata": {
    "collapsed": true
   },
   "outputs": [],
   "source": []
  }
 ],
 "metadata": {
  "kernelspec": {
   "display_name": "Python 3",
   "language": "python",
   "name": "python3"
  },
  "language_info": {
   "codemirror_mode": {
    "name": "ipython",
    "version": 3
   },
   "file_extension": ".py",
   "mimetype": "text/x-python",
   "name": "python",
   "nbconvert_exporter": "python",
   "pygments_lexer": "ipython3",
   "version": "3.6.1"
  }
 },
 "nbformat": 4,
 "nbformat_minor": 2
}
